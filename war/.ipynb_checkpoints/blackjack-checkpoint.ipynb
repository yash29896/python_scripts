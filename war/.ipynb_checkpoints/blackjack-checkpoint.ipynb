{
 "cells": [
  {
   "cell_type": "code",
   "execution_count": null,
   "metadata": {},
   "outputs": [],
   "source": [
    "#face cards 10\n",
    "#Aces value 1\n",
    "#Bankroll\n",
    "#deckshuffle\n",
    "#playerhand\n",
    "#computerhand\n",
    "#win p>c\n",
    "#win dealer bust\n",
    "#lose p bust\n",
    "#win = bet *2\n",
    "\n",
    "values={'one'}"
   ]
  }
 ],
 "metadata": {
  "kernelspec": {
   "display_name": "Python 3",
   "language": "python",
   "name": "python3"
  },
  "language_info": {
   "codemirror_mode": {
    "name": "ipython",
    "version": 3
   },
   "file_extension": ".py",
   "mimetype": "text/x-python",
   "name": "python",
   "nbconvert_exporter": "python",
   "pygments_lexer": "ipython3",
   "version": "3.8.3"
  }
 },
 "nbformat": 4,
 "nbformat_minor": 4
}
