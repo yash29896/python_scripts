{
 "cells": [
  {
   "cell_type": "code",
   "execution_count": 22,
   "metadata": {},
   "outputs": [],
   "source": [
    "key=['    ']*9\n",
    "plr=[]\n",
    "valid_input=('X','O')\n",
    "plr=('Player1','Player2')\n",
    "name_flag=0\n",
    "played=[]\n",
    "game_win=False\n",
    "winner=[]\n",
    "\n",
    "\n",
    "def print_board():\n",
    "    print('          |          |           ')\n",
    "    print(f'   {key[6]}   |    {key[7]}  |    {key[8]}   ')\n",
    "    print('_____|_____|_____')\n",
    "    print('          |          |           ')\n",
    "    print(f'   {key[3]}   |   {key[4]}   |    {key[5]}   ')\n",
    "    print('_____|_____|_____')\n",
    "    print('          |          |           ')\n",
    "    print(f'   {key[0]}   |   {key[1]}   |    {key[2]}   ')\n",
    "    print('          |          |           ')"
   ]
  },
  {
   "cell_type": "code",
   "execution_count": 23,
   "metadata": {},
   "outputs": [],
   "source": [
    "def plr_sym_sel():\n",
    "    if name_flag==0:\n",
    "        while name_flag==0:\n",
    "            plr1=input(\"PLAYER1 select a symbol(X,O)  \").capitalize()\n",
    "            if plr1 not in valid_input:\n",
    "                print('INVALID SYMBOL PLEASE CHOOSE BETWEEN (X,O)  ')\n",
    "                continue\n",
    "            else:\n",
    "                name_flag==1\n",
    "                plr2=[a for a in valid_input if a!=plr1]\n",
    "                return [plr1+' ',plr2[0]+' ']\n"
   ]
  },
  {
   "cell_type": "code",
   "execution_count": 24,
   "metadata": {},
   "outputs": [],
   "source": [
    "def enter_sym(x):\n",
    "    cntr=9\n",
    "\n",
    "    while True:\n",
    "        pos=int(input(f\"PLAYER{x} TURN :  \"))\n",
    "        print(pos)\n",
    "        if pos in range(1,10) and pos not in played and cntr !=0:\n",
    "            key[pos-1]=plr[x-1]\n",
    "            played.append(pos)\n",
    "            break\n",
    "        elif cntr==0:\n",
    "            print\n",
    "        else:\n",
    "            print(\"ANOTHER PLAYER HAS ALREADY OCCUPIED THAT CELL \")\n",
    "\n",
    "\n",
    "    \n"
   ]
  },
  {
   "cell_type": "code",
   "execution_count": 25,
   "metadata": {},
   "outputs": [
    {
     "name": "stdout",
     "output_type": "stream",
     "text": [
      "[]\n"
     ]
    }
   ],
   "source": [
    "def check_win_logic():\n",
    "\n",
    "    row=[0]*3\n",
    "    row[0]=[a.strip() for a in key[:3]]\n",
    "    row[1]=[a.strip() for a in key[3:6]]\n",
    "    row[2]=[a.strip() for a in key[6:9]]\n",
    "    for i in range(0,3):\n",
    "        if row[i][0] in valid_input and row[i][0]==row[i][1]==row[i][2]:\n",
    "            winner.append(row[i][0])\n",
    "            return True\n",
    "        elif row[0][i] in valid_input and row[0][i]==row[1][i]==row[2][i]:\n",
    "            winner.append(row[i][0])\n",
    "            return True\n",
    "        else:\n",
    "            pass\n",
    "        \n",
    "    if row[0][0] in valid_input and row[0][0]==row[1][1]==row[2][2]:\n",
    "            winner.append(row[0][0])\n",
    "            return True\n",
    "    elif row[0][2] in valid_input and row[0][2]==row[1][1]==row[2][0]:\n",
    "            winner.append(row[0][2])\n",
    "            return True\n",
    "    else:\n",
    "        return False\n",
    "print(winner)               \n"
   ]
  },
  {
   "cell_type": "code",
   "execution_count": 26,
   "metadata": {},
   "outputs": [],
   "source": [
    "def declare_winner():\n",
    "    if valid_input.index(winner[0])==0:\n",
    "        print(\"Player1 Wins\")\n",
    "    else:\n",
    "        print(\"Player2 Wins\")\n"
   ]
  },
  {
   "cell_type": "code",
   "execution_count": 27,
   "metadata": {},
   "outputs": [],
   "source": [
    "def play_again():\n",
    "    response=input(\"Play Again Y/N\")\n",
    "    return response.capitalize()=='Y'\n",
    "      "
   ]
  },
  {
   "cell_type": "code",
   "execution_count": 28,
   "metadata": {},
   "outputs": [],
   "source": [
    "#key not changing\n",
    "def refresh():\n",
    "    key=['    ']*9\n",
    "    plr=[]\n",
    "    global name_flag\n",
    "    name_flag=0\n",
    "    played=[]\n",
    "    global game_win\n",
    "    game_win=False\n",
    "    winner=[]\n"
   ]
  },
  {
   "cell_type": "code",
   "execution_count": 29,
   "metadata": {},
   "outputs": [],
   "source": [
    "def game_play():\n",
    "    while True:\n",
    "        enter_sym(1)\n",
    "        print_board()\n",
    "        game_win=check_win_logic()\n",
    "        if game_win:\n",
    "            return True\n",
    "        enter_sym(2)\n",
    "        game_win=check_win_logic()\n",
    "        print_board()\n",
    "        if game_win:\n",
    "            return True"
   ]
  },
  {
   "cell_type": "code",
   "execution_count": null,
   "metadata": {},
   "outputs": [
    {
     "name": "stdout",
     "output_type": "stream",
     "text": [
      "PLAYER1 select a symbol(X,O)  x\n",
      "          |          |           \n",
      "          |          |           \n",
      "_____|_____|_____\n",
      "          |          |           \n",
      "          |          |           \n",
      "_____|_____|_____\n",
      "          |          |           \n",
      "          |          |           \n",
      "          |          |           \n",
      "PLAYER1 TURN :  1\n",
      "1\n",
      "          |          |           \n",
      "          |          |           \n",
      "_____|_____|_____\n",
      "          |          |           \n",
      "          |          |           \n",
      "_____|_____|_____\n",
      "          |          |           \n",
      "   X    |          |           \n",
      "          |          |           \n",
      "PLAYER2 TURN :  2\n",
      "2\n",
      "          |          |           \n",
      "          |          |           \n",
      "_____|_____|_____\n",
      "          |          |           \n",
      "          |          |           \n",
      "_____|_____|_____\n",
      "          |          |           \n",
      "   X    |   O    |           \n",
      "          |          |           \n",
      "PLAYER1 TURN :  5\n",
      "5\n",
      "          |          |           \n",
      "          |          |           \n",
      "_____|_____|_____\n",
      "          |          |           \n",
      "          |   X    |           \n",
      "_____|_____|_____\n",
      "          |          |           \n",
      "   X    |   O    |           \n",
      "          |          |           \n",
      "PLAYER2 TURN :  4\n",
      "4\n",
      "          |          |           \n",
      "          |          |           \n",
      "_____|_____|_____\n",
      "          |          |           \n",
      "   O    |   X    |           \n",
      "_____|_____|_____\n",
      "          |          |           \n",
      "   X    |   O    |           \n",
      "          |          |           \n",
      "PLAYER1 TURN :  8\n",
      "8\n",
      "          |          |           \n",
      "          |    X   |           \n",
      "_____|_____|_____\n",
      "          |          |           \n",
      "   O    |   X    |           \n",
      "_____|_____|_____\n",
      "          |          |           \n",
      "   X    |   O    |           \n",
      "          |          |           \n",
      "PLAYER2 TURN :  3\n",
      "3\n",
      "          |          |           \n",
      "          |    X   |           \n",
      "_____|_____|_____\n",
      "          |          |           \n",
      "   O    |   X    |           \n",
      "_____|_____|_____\n",
      "          |          |           \n",
      "   X    |   O    |    O    \n",
      "          |          |           \n",
      "PLAYER1 TURN :  9\n",
      "9\n",
      "          |          |           \n",
      "          |    X   |    X    \n",
      "_____|_____|_____\n",
      "          |          |           \n",
      "   O    |   X    |           \n",
      "_____|_____|_____\n",
      "          |          |           \n",
      "   X    |   O    |    O    \n",
      "          |          |           \n",
      "Player1 Wins\n"
     ]
    }
   ],
   "source": [
    "\n",
    "while True:\n",
    "    plr=plr_sym_sel()\n",
    "    print_board()\n",
    "    \n",
    "\n",
    "    \n",
    "    game_win=game_play()\n",
    "    \n",
    "    if game_win:\n",
    "        declare_winner()\n",
    "        if not play_again():\n",
    "            break\n",
    "        else:\n",
    "            refresh()\n",
    "            \n",
    "    \n",
    "\n"
   ]
  },
  {
   "cell_type": "code",
   "execution_count": null,
   "metadata": {},
   "outputs": [],
   "source": [
    "x='  a  b'"
   ]
  },
  {
   "cell_type": "code",
   "execution_count": null,
   "metadata": {},
   "outputs": [],
   "source": [
    "x-'b'"
   ]
  },
  {
   "cell_type": "code",
   "execution_count": null,
   "metadata": {},
   "outputs": [],
   "source": [
    "winner[0]"
   ]
  },
  {
   "cell_type": "code",
   "execution_count": null,
   "metadata": {},
   "outputs": [],
   "source": [
    "i"
   ]
  },
  {
   "cell_type": "code",
   "execution_count": null,
   "metadata": {},
   "outputs": [],
   "source": []
  }
 ],
 "metadata": {
  "kernelspec": {
   "display_name": "Python 3",
   "language": "python",
   "name": "python3"
  },
  "language_info": {
   "codemirror_mode": {
    "name": "ipython",
    "version": 3
   },
   "file_extension": ".py",
   "mimetype": "text/x-python",
   "name": "python",
   "nbconvert_exporter": "python",
   "pygments_lexer": "ipython3",
   "version": "3.8.3"
  }
 },
 "nbformat": 4,
 "nbformat_minor": 4
}
